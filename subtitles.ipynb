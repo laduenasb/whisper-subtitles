{
 "cells": [
  {
   "attachments": {},
   "cell_type": "markdown",
   "metadata": {},
   "source": [
    "# Librerias"
   ]
  },
  {
   "cell_type": "code",
   "execution_count": 3,
   "metadata": {},
   "outputs": [],
   "source": [
    "import whisper\n",
    "import os\n",
    "from whisper.utils import get_writer"
   ]
  },
  {
   "attachments": {},
   "cell_type": "markdown",
   "metadata": {},
   "source": [
    "# Cargando el modelo y la ruta del video"
   ]
  },
  {
   "cell_type": "code",
   "execution_count": 4,
   "metadata": {},
   "outputs": [
    {
     "name": "stderr",
     "output_type": "stream",
     "text": [
      "/home/user/.local/lib/python3.10/site-packages/whisper/transcribe.py:114: UserWarning: FP16 is not supported on CPU; using FP32 instead\n",
      "  warnings.warn(\"FP16 is not supported on CPU; using FP32 instead\")\n"
     ]
    },
    {
     "name": "stdout",
     "output_type": "stream",
     "text": [
      " I Time I chrome the fuck up Get the hell out wanna sell hurt my offer not selling came here to chip the shit Listen baby that there is a military great piece gotta have the bill to handle it and Choned at something you ain't got spoken like a ripper who really cares about his customers With this knock before a kid who can't afford me Whoa, wait a minute fuck it man. I'll buy I'll chip you up But when you come back crying to dank it out Cause it's poaching your brain he send his mind for free. So ready to win I Destroy You You From the EU's tariff policy Check it out get a load of this guy is he serious You Gongs Martinez we're at school the cameras What are you afraid of getting caught cuz I know I sure as shit ain't come on well I Want you to Plant is that you broke my nose you asshole. You're done My father is an Arasaka exit on the Academy Board Like I give a shit Oh Marcus you'll bring me footage of my own son being assaulted by a classmate Why his name is David Martinez 17 years old from Santo Domingo He is a top student who recently corrupted Academy data and hardware with a bootleg wreath update No father mother was recently killed in a traffic accident. He owes considerable debt to the academy must I know all this notice his movement Sir, it's clear. He used the San deva San implant former second lieutenant James Norris had been equipped with at the time of his death I see the case filed as a cyberpsychotic incident Yes, sir. Yet unlike the soldier this student displays no apparent side effects stemming from the implant I believe his tolerance for cybernetics could in fact make him a prime candidate to test the product Hmm. Where is he now? He was expelled sir summon him lure him with promises of financial aid Yes, sir, and what about your son as my heir it's high time. He learned what it means to serve the company's best interests Mr. Martinez, please know your expulsion has been formally processed. However, mr. Tanaka's parents contacted us to request I Am so fucked Oh Oh Oh Oh So what's your angle spill it my angle what do you want you're messing up my work Work, huh? If I know any better. I'd say you were a pick socket. So what you're gonna put cuffs on me I can't believe it. You're a petty thief Do I know you know what not really I don't think so Oh Looky here boy, you are in trouble Really a Sam Devastan damn do tell me where you found it wait curiosity killed the cat and all that Crazy idea. How about we work together? Doing what stealing is it stealing if I only hit Arasaka suits? Come on. Do I look corpo to you? Fun you should ask scan to pick up a Narasaka Academy ID, but you're right. You definitely don't look the type. That's for sure I Dropped out What a bad boy So you just target Saka, huh? Why you in gonna break my mama's heart if she finds out, you know Listen up lesson number one less judgment more awareness Yeah, yeah, so what's my cut we'll split the hall 8020 what fuck that we go half. She's on the work and then I get any's I'm the one who'll be pushing the cleft shards plus got a trainee to supervise now Trainee, come on and really tight on Eddie's right now 6040s fair ain't it? 7030 and I'll pay the second the job's done. I think that's fair All right, sounds fine, it's a deal I'm Lucy. Okay Name's David Clear reading me clear crystal good my into Our mark. Yeah, three o'clock. Don't turn got moving in Okay set ready to roll three two one show time I Easy as pie to me. I'm chill real deals next bring it three trippy sheets yada go Then the two two braindance glazed Easy, come on challenge, please Okay. Okay, big fish big loop coming up sounds no Doesn't scream core to me. No hired muscle ready three wait Nice nice we've got this car dry next stop we ghost So, how'd I do I'd say you're well worth the 20% hey, it's 30 Kidding keep it rolling another car a different line. Maybe someone's probably tipped the pigs off by now How about is he? Typical rookie mistake hasn't taken any precautions since the implant was installed which immunosuppression is he on? Hey, this guy insured haven't got a clue. It sure doesn't look like he would be any family Legal guardian anyone I can call Don't know Parents, I guess used to go to Arasaka Academy Arasaka No wonder he could afford hey hold on a sec Morning, so how you feeling? I'm gonna roll remember which pills you take Hey lady, we just passed the hospital. Oh my Listen to him this kid got an implant on him that'll fetch at least a couple K So just sit back and relax and we'll write you like kind of deal with some scavengers I said sit back and show that will probe you for Chrome to sorry David. What's like we gotta change our plans You're back to 20 Oh Oh Oh Whoops hey doing okay not gonna die are ya No, please hmm Doc's clinic river dog get me there David body Man, you look like shit Thanks a lot. How many times you fired up six? No, maybe eight Jesus Henry Christ Gone as man couldn't take that punishment. I was fine an hour ago and then my nose popped a cork Gonk had no immuno blockers you care to explain ah Didn't really see the need Saw it wrong then some the meds Shit off the shelf ain't gonna cut it different league you good for it. You fucking charging me Fucking right. I am ain't running no charity jump How much will these buy Hey two days, but That's it. Hey feel free to shop around sweetheart. Cause that might lend you back with this cops Great bastard Sure, you really wouldn't rather have it gone Nope Still can't quite believe you're fired that thing of eight times and one goddamn day You're either total masochist or listen close David to a day No more three maybe but that's the max no bullshit Even if your body can take it that egghead of your show can't keep fucking around in that implant gonna scramble your brain You saying a single implant could make me a cyberpsycho Is that even possible never heard of that happening before well, Davey guess you just heard it from me, didn't ya? You So y'all done yeah Well, then I guess that's a wrap for today. I'm good. I can keep running You big dope not about to start babysitting a cyberpsycho Sandeva Stan only use it when you got no other choice. That's other ways to turn out it's Still want to work with me even after that think I'd let you go without paying me back first Good I definitely need the eddies. That's the spirit Sure, you're not up for some more tonight. I'm kind of lagging on rent not tonight tomorrow Okay, okay Come on new you'd want to it's not work-related, huh? Right here you Live alone. Mm-hmm and nothing What you nervous or something of course not it's your first time hell no Shut up, will ya sit down relax? Here's all I got you drink. Of course. Yeah, cheers Seriously so it is your first time drinking. No, I have it's just Mm-hmm fizzy drinks and smokes don't do neither. I wouldn't tease you about that I'm telling the truth. Sure you are. What's with the get-up? Anyway Take it off what why just do it. Come on. Hey Wait don't mess with that. Come on Uh Edgerunners Another word for cyberpunk. It's who you want to be don't you? JK's Edgerunner series shit. Yeah, I'm a fan You serious? Right back at you like that kind of gank poster Got a problem No problem just always whacked me out all of those ads making it seem like it's some kind of paradise or something Lots of peeps died trying to turn that dumb rock into something useful More like a prison camp than a paradise if you ask me Sounds to me like someone did their homework Not really Just a bunch of shit. I learned in school begging your pardon prep boy It ain't like that Isn't it never met a pleb who attended a soccer school it's not My my mom and I weren't very well off there's no way they would have accepted me off the street like that She worked damn hard to keep me in the academy scraping together Eddie's any way she could You want to know the real kicker though? I knew from day one. I'd never belong there So why stick around for so long or at all good fucking question? Guess it was for mom. You know you'll get a job at our Osaka climb the Corpo ladder Was kind of her dream all that Saka stuff Our dream I guess or whatever It's not your dream now is it my dream. Well. Yeah you your mom your different people Why should you work to achieve her dream? Actually, there's nothing wrong with that you need to find your own dream Sounds to me like you already found yours Is that a joke or what? You called it a prison camp to me this city's a whole lot worse This place I want to go away far as possible Come on got something to show you Oh Whoa Check out this resolution. I can feel the fucking Sun. That's through your personal ink It's what allows you to feel the heat of the Sun of course you'd be fried crispy if I gave you the actual temp I made sure to lower the settings mellow out the experience Tell it back up. No way this is totally preem You look ridiculous Oh Fucking awesome Get away Oh Oh First time I've shown anyone this oh really So like why me Dunno I guess it just felt right I Got this feeling think you and I'd make a pretty good team I think so, too You fell over the edge punk I Toughed deal, but that implant you chipped is all mine. I've been taking it back now\n"
     ]
    }
   ],
   "source": [
    "output_dir=\"./\"\n",
    "model = whisper.load_model(\"small.en\")\n",
    "audio = \"./cp2.mp4\"\n",
    "result = model.transcribe(audio)\n",
    "print(result[\"text\"])"
   ]
  },
  {
   "attachments": {},
   "cell_type": "markdown",
   "metadata": {},
   "source": [
    "# Guardando la traducción en un archivo SRT"
   ]
  },
  {
   "cell_type": "code",
   "execution_count": null,
   "metadata": {},
   "outputs": [],
   "source": [
    "srt_writer = get_writer(\"srt\", output_dir)\n",
    "srt_writer(result, audio)"
   ]
  },
  {
   "attachments": {},
   "cell_type": "markdown",
   "metadata": {},
   "source": [
    "# Guardando la traducción en un archivo VTT"
   ]
  },
  {
   "cell_type": "code",
   "execution_count": null,
   "metadata": {},
   "outputs": [],
   "source": [
    "vtt_writer = get_writer(\"vtt\", output_dir)\n",
    "vtt_writer(result, audio)"
   ]
  }
 ],
 "metadata": {
  "kernelspec": {
   "display_name": "whisper-subtitles",
   "language": "python",
   "name": "python3"
  },
  "language_info": {
   "codemirror_mode": {
    "name": "ipython",
    "version": 3
   },
   "file_extension": ".py",
   "mimetype": "text/x-python",
   "name": "python",
   "nbconvert_exporter": "python",
   "pygments_lexer": "ipython3",
   "version": "3.10.6"
  },
  "orig_nbformat": 4
 },
 "nbformat": 4,
 "nbformat_minor": 2
}
